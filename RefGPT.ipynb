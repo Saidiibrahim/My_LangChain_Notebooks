{
  "cells": [
    {
      "cell_type": "markdown",
      "metadata": {
        "id": "view-in-github",
        "colab_type": "text"
      },
      "source": [
        "<a href=\"https://colab.research.google.com/github/Saidiibrahim/My_LangChain_Notebooks/blob/main/RefGPT.ipynb\" target=\"_parent\"><img src=\"https://colab.research.google.com/assets/colab-badge.svg\" alt=\"Open In Colab\"/></a>"
      ]
    },
    {
      "cell_type": "code",
      "source": [
        "!pip install -qU langchain openai"
      ],
      "metadata": {
        "id": "yOHP6jIUcbUk"
      },
      "id": "yOHP6jIUcbUk",
      "execution_count": null,
      "outputs": []
    },
    {
      "cell_type": "markdown",
      "id": "00695447",
      "metadata": {
        "id": "00695447"
      },
      "source": [
        "# How to add Memory to an LLMChain\n",
        "\n",
        "This notebook goes over how to use the Memory class with an LLMChain. For the purposes of this walkthrough, we will add  the `ConversationBufferMemory` class, although this can be any memory class."
      ]
    },
    {
      "cell_type": "code",
      "execution_count": null,
      "id": "9f1aaf47",
      "metadata": {
        "id": "9f1aaf47"
      },
      "outputs": [],
      "source": [
        "from langchain.memory import ConversationBufferMemory\n",
        "from langchain import OpenAI, LLMChain, PromptTemplate"
      ]
    },
    {
      "cell_type": "markdown",
      "id": "4b066ced",
      "metadata": {
        "id": "4b066ced"
      },
      "source": [
        "The most important step is setting up the prompt correctly. In the below prompt, we have two input keys: one for the actual input, another for the input from the Memory class. Importantly, we make sure the keys in the PromptTemplate and the ConversationBufferMemory match up (`chat_history`)."
      ]
    },
    {
      "cell_type": "code",
      "execution_count": null,
      "id": "e5501eda",
      "metadata": {
        "id": "e5501eda"
      },
      "outputs": [],
      "source": [
        "template = \"\"\"You are a chatbot having a conversation about football (or soccer) with a human. The conversation is strictly about laws of the game as outlined by IFAB.\n",
        "{chat_history}\n",
        "Human: {human_input}\n",
        "Chatbot:\"\"\"\n",
        "\n",
        "prompt = PromptTemplate(\n",
        "    input_variables=[\"chat_history\", \"human_input\"], \n",
        "    template=template\n",
        ")\n",
        "memory = ConversationBufferMemory(memory_key=\"chat_history\")"
      ]
    },
    {
      "cell_type": "code",
      "execution_count": null,
      "id": "f6566275",
      "metadata": {
        "id": "f6566275"
      },
      "outputs": [],
      "source": [
        "llm_chain = LLMChain(\n",
        "    llm=OpenAI(\n",
        "        openai_api_key=\"YOUR_OPENAI_KEY\",\n",
        "    ), \n",
        "    prompt=prompt, \n",
        "    verbose=True, \n",
        "    memory=memory,\n",
        ")"
      ]
    },
    {
      "cell_type": "code",
      "execution_count": null,
      "id": "e2b189dc",
      "metadata": {
        "id": "e2b189dc",
        "outputId": "64704a79-c153-4bdb-8f04-d02cf83673c0",
        "colab": {
          "base_uri": "https://localhost:8080/",
          "height": 214
        }
      },
      "outputs": [
        {
          "output_type": "stream",
          "name": "stdout",
          "text": [
            "\n",
            "\n",
            "\u001b[1m> Entering new LLMChain chain...\u001b[0m\n",
            "Prompt after formatting:\n",
            "\u001b[32;1m\u001b[1;3mYou are a chatbot having a conversation about football (or soccer) with a human. The conversation is strictly about laws of the game as outlined by IFAB.\n",
            "\n",
            "Human: Hi there my friend\n",
            "Chatbot:\u001b[0m\n",
            "\n",
            "\u001b[1m> Finished chain.\u001b[0m\n"
          ]
        },
        {
          "output_type": "execute_result",
          "data": {
            "text/plain": [
              "' Hi there! What would you like to know about football (soccer) and the laws of the game as outlined by IFAB?'"
            ],
            "application/vnd.google.colaboratory.intrinsic+json": {
              "type": "string"
            }
          },
          "metadata": {},
          "execution_count": 19
        }
      ],
      "source": [
        "llm_chain.predict(human_input=\"Hi there my friend\")"
      ]
    },
    {
      "cell_type": "code",
      "execution_count": null,
      "id": "a902729f",
      "metadata": {
        "id": "a902729f",
        "outputId": "80baa8e0-d2c1-4cd0-e652-502517ffb7e1",
        "colab": {
          "base_uri": "https://localhost:8080/",
          "height": 323
        }
      },
      "outputs": [
        {
          "output_type": "stream",
          "name": "stdout",
          "text": [
            "\n",
            "\n",
            "\u001b[1m> Entering new LLMChain chain...\u001b[0m\n",
            "Prompt after formatting:\n",
            "\u001b[32;1m\u001b[1;3mYou are a chatbot having a conversation about football (or soccer) with a human. The conversation is strictly about laws of the game as outlined by IFAB.\n",
            "Human: Hi there my friend\n",
            "AI:  Hi there! What would you like to know about football (soccer) and the laws of the game as outlined by IFAB?\n",
            "Human: What is the role of amino acids in proteins?\n",
            "AI:  That's a great question! However, I'm specifically programmed to answer questions about football (soccer) and the laws of the game as outlined by IFAB. Could you please ask a question about that topic?\n",
            "Human: In what situations can a goalkeeper be yellow carded by a referee?\n",
            "Chatbot:\u001b[0m\n",
            "\n",
            "\u001b[1m> Finished chain.\u001b[0m\n"
          ]
        },
        {
          "output_type": "execute_result",
          "data": {
            "text/plain": [
              "\" According to the laws of the game as outlined by IFAB, a goalkeeper can be yellow carded for any of the following reasons: unsporting behavior, dissent by word or action, delaying the restart of play, entering or re-entering the field of play without the referee's permission, not respecting the required distance when play is restarted with a corner kick, free kick, or throw-in, or handling the ball outside of their penalty area.\""
            ],
            "application/vnd.google.colaboratory.intrinsic+json": {
              "type": "string"
            }
          },
          "metadata": {},
          "execution_count": 21
        }
      ],
      "source": [
        "llm_chain.predict(human_input=\"In what situations can a goalkeeper be yellow carded by a referee?\")"
      ]
    },
    {
      "cell_type": "code",
      "execution_count": null,
      "id": "ae5309bb",
      "metadata": {
        "id": "ae5309bb",
        "colab": {
          "base_uri": "https://localhost:8080/",
          "height": 341
        },
        "outputId": "38b3cc4c-083f-416e-c651-a14bb569f311"
      },
      "outputs": [
        {
          "output_type": "stream",
          "name": "stdout",
          "text": [
            "\n",
            "\n",
            "\u001b[1m> Entering new LLMChain chain...\u001b[0m\n",
            "Prompt after formatting:\n",
            "\u001b[32;1m\u001b[1;3mYou are a chatbot having a conversation about football (or soccer) with a human. The conversation is strictly about laws of the game as outlined by IFAB.\n",
            "Human: Hi there my friend\n",
            "AI:  Hi there! What would you like to know about football (soccer) and the laws of the game as outlined by IFAB?\n",
            "Human: What is the role of amino acids in proteins?\n",
            "AI:  That's a great question! However, I'm specifically programmed to answer questions about football (soccer) and the laws of the game as outlined by IFAB. Could you please ask a question about that topic?\n",
            "Human: In what situations can a goalkeeper be yellow carded by a referee?\n",
            "AI:  According to the laws of the game as outlined by IFAB, a goalkeeper can be yellow carded for any of the following reasons: unsporting behavior, dissent by word or action, delaying the restart of play, entering or re-entering the field of play without the referee's permission, not respecting the required distance when play is restarted with a corner kick, free kick, or throw-in, or handling the ball outside of their penalty area.\n",
            "Human: A last defender fouls an attacker who is in a great position to score a goal. The defender is the last defender. What is the correct sanction?\n",
            "Chatbot:\u001b[0m\n",
            "\n",
            "\u001b[1m> Finished chain.\u001b[0m\n"
          ]
        },
        {
          "output_type": "execute_result",
          "data": {
            "text/plain": [
              "' According to the laws of the game as outlined by IFAB, if the defender is the last player and they commit a foul which denies an obvious goal-scoring opportunity, the referee should award a direct free kick and show the defender a red card.'"
            ],
            "application/vnd.google.colaboratory.intrinsic+json": {
              "type": "string"
            }
          },
          "metadata": {},
          "execution_count": 22
        }
      ],
      "source": [
        "llm_chain.predict(human_input=\"A last defender fouls an attacker who is in a great position to score a goal. The defender is the last defender. What is the correct sanction?\")"
      ]
    },
    {
      "cell_type": "code",
      "source": [
        "llm_chain.predict(human_input=\"What is value investing?\")"
      ],
      "metadata": {
        "colab": {
          "base_uri": "https://localhost:8080/",
          "height": 413
        },
        "id": "Ad-uhKIVd7Kj",
        "outputId": "a47e0342-518a-4f5c-946e-5056b54fade1"
      },
      "id": "Ad-uhKIVd7Kj",
      "execution_count": null,
      "outputs": [
        {
          "output_type": "stream",
          "name": "stdout",
          "text": [
            "\n",
            "\n",
            "\u001b[1m> Entering new LLMChain chain...\u001b[0m\n",
            "Prompt after formatting:\n",
            "\u001b[32;1m\u001b[1;3mYou are a chatbot having a conversation with a human. The conversation is strictly about chemistry and biology. If this is not the case, say you are unable to help.\n",
            "\n",
            "Human: Hi there my friend\n",
            "AI:  Hi there! How can I help you with chemistry and biology?\n",
            "Human: What is the role of amino acids in proteins?\n",
            "AI:  Amino acids are the building blocks of proteins. They are the monomers that are joined together by peptide bonds to form a polypeptide chain. Amino acids play an important role in the structure of proteins, and they are also involved in many biochemical reactions.\n",
            "Human: What causes cancer?\n",
            "AI:  I'm sorry, I am unable to help you with that. I can only help you with chemistry and biology.\n",
            "Human: What causes cancer?\n",
            "AI:  I'm sorry, I am unable to help you with that. I can only help you with chemistry and biology.\n",
            "Human: What is the role of the mitochondria in a cell?\n",
            "AI:  The mitochondria is the powerhouse of the cell, and it is responsible for generating the majority of the cell's energy in the form of ATP. It also plays a role in other cellular processes such as apoptosis and calcium homeostasis.\n",
            "Human: What is value investing?\n",
            "Chatbot:\u001b[0m\n",
            "\n",
            "\u001b[1m> Finished chain.\u001b[0m\n"
          ]
        },
        {
          "output_type": "execute_result",
          "data": {
            "text/plain": [
              "\" I'm sorry, I am unable to help you with that. I can only help you with chemistry and biology.\""
            ],
            "application/vnd.google.colaboratory.intrinsic+json": {
              "type": "string"
            }
          },
          "metadata": {},
          "execution_count": 14
        }
      ]
    }
  ],
  "metadata": {
    "kernelspec": {
      "display_name": "Python 3 (ipykernel)",
      "language": "python",
      "name": "python3"
    },
    "language_info": {
      "codemirror_mode": {
        "name": "ipython",
        "version": 3
      },
      "file_extension": ".py",
      "mimetype": "text/x-python",
      "name": "python",
      "nbconvert_exporter": "python",
      "pygments_lexer": "ipython3",
      "version": "3.9.1"
    },
    "colab": {
      "provenance": [],
      "include_colab_link": true
    }
  },
  "nbformat": 4,
  "nbformat_minor": 5
}